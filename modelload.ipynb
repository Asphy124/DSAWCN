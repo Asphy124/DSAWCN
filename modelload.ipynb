{
 "cells": [
  {
   "cell_type": "code",
   "execution_count": 12,
   "metadata": {},
   "outputs": [],
   "source": [
    "import torch\n",
    "import torch.nn as nn\n",
    "import torchvision\n",
    "import model.fldqwn as fldqwn\n",
    "import model.dawn as dawn\n",
    "import model.wcnn as wcnn\n",
    "import model.tcnn as tcnn\n",
    "\n",
    "use_cuda = torch.cuda.is_available()\n",
    "device = torch.device(\"cuda:0\" if use_cuda else \"cpu\")"
   ]
  },
  {
   "cell_type": "markdown",
   "metadata": {},
   "source": [
    "经典主流模型"
   ]
  },
  {
   "cell_type": "code",
   "execution_count": 13,
   "metadata": {},
   "outputs": [
    {
     "name": "stdout",
     "output_type": "stream",
     "text": [
      "Number of model parameters            : 11,181,642\n",
      "Number of *trainable* model parameters: 11,181,642\n"
     ]
    }
   ],
   "source": [
    "resnet18 = torchvision.models.resnet18(weights=torchvision.models.ResNet18_Weights.DEFAULT)\n",
    "resnet18.fc = nn.Linear(512, 10)\n",
    "print(\"Number of model parameters            : {:,}\".format(\n",
    "    sum([p.data.nelement() for p in resnet18.parameters()])))\n",
    "print(\"Number of *trainable* model parameters: {:,}\".format(\n",
    "    sum(p.numel() for p in resnet18.parameters() if p.requires_grad)))"
   ]
  },
  {
   "cell_type": "code",
   "execution_count": 14,
   "metadata": {},
   "outputs": [
    {
     "name": "stdout",
     "output_type": "stream",
     "text": [
      "Number of model parameters            : 6,964,106\n",
      "Number of *trainable* model parameters: 6,964,106\n"
     ]
    }
   ],
   "source": [
    "densenet = torchvision.models.densenet121(weights=torchvision.models.DenseNet121_Weights.DEFAULT)\n",
    "densenet.classifier = nn.Linear(1024, 10)\n",
    "print(\"Number of model parameters            : {:,}\".format(\n",
    "    sum([p.data.nelement() for p in densenet.parameters()])))\n",
    "print(\"Number of *trainable* model parameters: {:,}\".format(\n",
    "    sum(p.numel() for p in densenet.parameters() if p.requires_grad)))"
   ]
  },
  {
   "cell_type": "markdown",
   "metadata": {},
   "source": [
    "现有主流轻量化模型"
   ]
  },
  {
   "cell_type": "code",
   "execution_count": 15,
   "metadata": {},
   "outputs": [
    {
     "name": "stdout",
     "output_type": "stream",
     "text": [
      "Number of model parameters            : 2,287,922\n",
      "Number of *trainable* model parameters: 2,287,922\n"
     ]
    }
   ],
   "source": [
    "mobilenet = torchvision.models.mobilenet_v2(weights=torchvision.models.MobileNet_V2_Weights.DEFAULT)\n",
    "mobilenet.classifier[1] = nn.Linear(1280, 10)\n",
    "mobilenet.classifier[1] = nn.Linear(in_features=mobilenet.classifier[1].in_features, out_features=50)\n",
    "print(\"Number of model parameters            : {:,}\".format(\n",
    "    sum([p.data.nelement() for p in mobilenet.parameters()])))\n",
    "print(\"Number of *trainable* model parameters: {:,}\".format(\n",
    "    sum(p.numel() for p in mobilenet.parameters() if p.requires_grad)))"
   ]
  },
  {
   "cell_type": "code",
   "execution_count": 16,
   "metadata": {},
   "outputs": [
    {
     "name": "stdout",
     "output_type": "stream",
     "text": [
      "Number of model parameters            : 5,355,246\n",
      "Number of *trainable* model parameters: 5,355,246\n"
     ]
    }
   ],
   "source": [
    "shufflenet = torchvision.models.shufflenet_v2_x2_0(weights=torchvision.models.ShuffleNet_V2_X2_0_Weights.DEFAULT)\n",
    "shufflenet.fc = nn.Linear(1024, 10)\n",
    "print(\"Number of model parameters            : {:,}\".format(\n",
    "    sum([p.data.nelement() for p in shufflenet.parameters()])))\n",
    "print(\"Number of *trainable* model parameters: {:,}\".format(\n",
    "    sum(p.numel() for p in shufflenet.parameters() if p.requires_grad)))"
   ]
  },
  {
   "cell_type": "code",
   "execution_count": 17,
   "metadata": {},
   "outputs": [
    {
     "name": "stdout",
     "output_type": "stream",
     "text": [
      "Number of model parameters            : 5,301,358\n",
      "Number of *trainable* model parameters: 5,301,358\n"
     ]
    }
   ],
   "source": [
    "efficientnet = torchvision.models.efficientnet_b0(weights=torchvision.models.EfficientNet_B0_Weights.DEFAULT)\n",
    "efficientnet._fc = nn.Linear(1280, 10)\n",
    "print(\"Number of model parameters            : {:,}\".format(\n",
    "    sum([p.data.nelement() for p in efficientnet.parameters()])))\n",
    "print(\"Number of *trainable* model parameters: {:,}\".format(\n",
    "    sum(p.numel() for p in efficientnet.parameters() if p.requires_grad)))"
   ]
  },
  {
   "cell_type": "markdown",
   "metadata": {},
   "source": [
    "小波卷积网络"
   ]
  },
  {
   "cell_type": "code",
   "execution_count": 18,
   "metadata": {},
   "outputs": [
    {
     "name": "stdout",
     "output_type": "stream",
     "text": [
      "DAWN:\n",
      "- first conv: 32\n",
      "- image size: 224\n",
      "- nb levels : 4\n",
      "- levels U/P: [2, 1]\n",
      "- channels:  3\n",
      "Final channel: 416\n",
      "Final size   : 14\n",
      "Number of model parameters            : 213,546\n",
      "Number of *trainable* model parameters: 213,546\n"
     ]
    }
   ],
   "source": [
    "dawn = dawn.DAWN(10, big_input=True,\n",
    "                    first_conv=32,\n",
    "                    number_levels=4,\n",
    "                    kernel_size=3,\n",
    "                    no_bootleneck=False,\n",
    "                    classifier='mode1',\n",
    "                    share_weights=False,\n",
    "                    simple_lifting=False,\n",
    "                    COLOR=True,\n",
    "                    regu_details=0.1,\n",
    "                    regu_approx=0.1,\n",
    "                    haar_wavelet=False\n",
    "                    )\n",
    "print(\"Number of model parameters            : {:,}\".format(\n",
    "    sum([p.data.nelement() for p in dawn.parameters()])))\n",
    "print(\"Number of *trainable* model parameters: {:,}\".format(\n",
    "    sum(p.numel() for p in dawn.parameters() if p.requires_grad)))"
   ]
  },
  {
   "cell_type": "code",
   "execution_count": 19,
   "metadata": {},
   "outputs": [
    {
     "name": "stdout",
     "output_type": "stream",
     "text": [
      "Number of model parameters            : 174,538\n",
      "Number of *trainable* model parameters: 174,538\n"
     ]
    }
   ],
   "source": [
    "fldqwn_s = fldqwn.FLDQWN(num_classes=10, \n",
    "                            first_in_channel=3,\n",
    "                            first_out_channel=64,\n",
    "                            num_level=5,\n",
    "                            kernel_size=8,\n",
    "                            regu_details=0.1,\n",
    "                            regu_approx=0.1,\n",
    "                            bottleneck=True,\n",
    "                            moreconv=True,\n",
    "                            wavelet='db4',\n",
    "                            mode='Free')\n",
    "print(\"Number of model parameters            : {:,}\".format(\n",
    "    sum([p.data.nelement() for p in fldqwn_s.parameters()])))\n",
    "print(\"Number of *trainable* model parameters: {:,}\".format(\n",
    "    sum(p.numel() for p in fldqwn_s.parameters() if p.requires_grad)))"
   ]
  },
  {
   "cell_type": "code",
   "execution_count": 20,
   "metadata": {},
   "outputs": [
    {
     "name": "stdout",
     "output_type": "stream",
     "text": [
      "WCNN:\n",
      " - wavelet type: haar\n",
      "Levels (DEBUG): \n",
      "- 12\n",
      "- 152\n",
      "- 420\n",
      "- 944\n",
      "Final number of features before FC: 1456\n",
      "Number of model parameters            : 10,210,354\n",
      "Number of *trainable* model parameters: 10,210,354\n"
     ]
    }
   ],
   "source": [
    "wcnn = wcnn.WCNN(\n",
    "        10, big_input=True, wavelet='haar', levels=4)\n",
    "print(\"Number of model parameters            : {:,}\".format(\n",
    "        sum([p.data.nelement() for p in wcnn.parameters()])))\n",
    "print(\"Number of *trainable* model parameters: {:,}\".format(\n",
    "        sum(p.numel() for p in wcnn.parameters() if p.requires_grad)))"
   ]
  },
  {
   "cell_type": "code",
   "execution_count": 21,
   "metadata": {},
   "outputs": [
    {
     "name": "stdout",
     "output_type": "stream",
     "text": [
      "Number of model parameters            : 19,951,818\n",
      "Number of *trainable* model parameters: 19,951,818\n"
     ]
    }
   ],
   "source": [
    "tcnn = tcnn.TCNN(\n",
    "        10, big_input=True, use_original=False)\n",
    "print(\"Number of model parameters            : {:,}\".format(\n",
    "        sum([p.data.nelement() for p in tcnn.parameters()])))\n",
    "print(\"Number of *trainable* model parameters: {:,}\".format(\n",
    "        sum(p.numel() for p in tcnn.parameters() if p.requires_grad)))"
   ]
  },
  {
   "cell_type": "code",
   "execution_count": 22,
   "metadata": {},
   "outputs": [
    {
     "ename": "AttributeError",
     "evalue": "'FLDQWN' object has no attribute 'FLDQWN'",
     "output_type": "error",
     "traceback": [
      "\u001b[1;31m---------------------------------------------------------------------------\u001b[0m",
      "\u001b[1;31mAttributeError\u001b[0m                            Traceback (most recent call last)",
      "Cell \u001b[1;32mIn[22], line 1\u001b[0m\n\u001b[1;32m----> 1\u001b[0m fldqwn8 \u001b[39m=\u001b[39m fldqwn\u001b[39m.\u001b[39;49mFLDQWN(num_classes\u001b[39m=\u001b[39m\u001b[39m10\u001b[39m, \n\u001b[0;32m      2\u001b[0m                             first_in_channel\u001b[39m=\u001b[39m\u001b[39m3\u001b[39m,\n\u001b[0;32m      3\u001b[0m                             first_out_channel\u001b[39m=\u001b[39m\u001b[39m8\u001b[39m,\n\u001b[0;32m      4\u001b[0m                             num_level\u001b[39m=\u001b[39m\u001b[39m5\u001b[39m,\n\u001b[0;32m      5\u001b[0m                             kernel_size\u001b[39m=\u001b[39m\u001b[39m8\u001b[39m,\n\u001b[0;32m      6\u001b[0m                             regu_details\u001b[39m=\u001b[39m\u001b[39m0.1\u001b[39m,\n\u001b[0;32m      7\u001b[0m                             regu_approx\u001b[39m=\u001b[39m\u001b[39m0.1\u001b[39m,\n\u001b[0;32m      8\u001b[0m                             bottleneck\u001b[39m=\u001b[39m\u001b[39mTrue\u001b[39;00m,\n\u001b[0;32m      9\u001b[0m                             moreconv\u001b[39m=\u001b[39m\u001b[39mTrue\u001b[39;00m,\n\u001b[0;32m     10\u001b[0m                             wavelet\u001b[39m=\u001b[39m\u001b[39m'\u001b[39m\u001b[39mdb4\u001b[39m\u001b[39m'\u001b[39m,\n\u001b[0;32m     11\u001b[0m                             mode\u001b[39m=\u001b[39m\u001b[39m'\u001b[39m\u001b[39mFree\u001b[39m\u001b[39m'\u001b[39m)\n\u001b[0;32m     12\u001b[0m \u001b[39mprint\u001b[39m(\u001b[39m\"\u001b[39m\u001b[39mNumber of model parameters            : \u001b[39m\u001b[39m{:,}\u001b[39;00m\u001b[39m\"\u001b[39m\u001b[39m.\u001b[39mformat(\n\u001b[0;32m     13\u001b[0m     \u001b[39msum\u001b[39m([p\u001b[39m.\u001b[39mdata\u001b[39m.\u001b[39mnelement() \u001b[39mfor\u001b[39;00m p \u001b[39min\u001b[39;00m fldqwn8\u001b[39m.\u001b[39mparameters()])))\n\u001b[0;32m     14\u001b[0m \u001b[39mprint\u001b[39m(\u001b[39m\"\u001b[39m\u001b[39mNumber of *trainable* model parameters: \u001b[39m\u001b[39m{:,}\u001b[39;00m\u001b[39m\"\u001b[39m\u001b[39m.\u001b[39mformat(\n\u001b[0;32m     15\u001b[0m     \u001b[39msum\u001b[39m(p\u001b[39m.\u001b[39mnumel() \u001b[39mfor\u001b[39;00m p \u001b[39min\u001b[39;00m fldqwn8\u001b[39m.\u001b[39mparameters() \u001b[39mif\u001b[39;00m p\u001b[39m.\u001b[39mrequires_grad)))\n",
      "File \u001b[1;32mc:\\Users\\www\\miniconda3\\Lib\\site-packages\\torch\\nn\\modules\\module.py:1614\u001b[0m, in \u001b[0;36mModule.__getattr__\u001b[1;34m(self, name)\u001b[0m\n\u001b[0;32m   1612\u001b[0m     \u001b[39mif\u001b[39;00m name \u001b[39min\u001b[39;00m modules:\n\u001b[0;32m   1613\u001b[0m         \u001b[39mreturn\u001b[39;00m modules[name]\n\u001b[1;32m-> 1614\u001b[0m \u001b[39mraise\u001b[39;00m \u001b[39mAttributeError\u001b[39;00m(\u001b[39m\"\u001b[39m\u001b[39m'\u001b[39m\u001b[39m{}\u001b[39;00m\u001b[39m'\u001b[39m\u001b[39m object has no attribute \u001b[39m\u001b[39m'\u001b[39m\u001b[39m{}\u001b[39;00m\u001b[39m'\u001b[39m\u001b[39m\"\u001b[39m\u001b[39m.\u001b[39mformat(\n\u001b[0;32m   1615\u001b[0m     \u001b[39mtype\u001b[39m(\u001b[39mself\u001b[39m)\u001b[39m.\u001b[39m\u001b[39m__name__\u001b[39m, name))\n",
      "\u001b[1;31mAttributeError\u001b[0m: 'FLDQWN' object has no attribute 'FLDQWN'"
     ]
    }
   ],
   "source": [
    "fldqwn8 = fldqwn.FLDQWN(num_classes=10, \n",
    "                            first_in_channel=3,\n",
    "                            first_out_channel=8,\n",
    "                            num_level=5,\n",
    "                            kernel_size=8,\n",
    "                            regu_details=0.1,\n",
    "                            regu_approx=0.1,\n",
    "                            bottleneck=True,\n",
    "                            moreconv=True,\n",
    "                            wavelet='db4',\n",
    "                            mode='Free')\n",
    "print(\"Number of model parameters            : {:,}\".format(\n",
    "    sum([p.data.nelement() for p in fldqwn8.parameters()])))\n",
    "print(\"Number of *trainable* model parameters: {:,}\".format(\n",
    "    sum(p.numel() for p in fldqwn8.parameters() if p.requires_grad)))"
   ]
  },
  {
   "cell_type": "code",
   "execution_count": null,
   "metadata": {},
   "outputs": [],
   "source": [
    "fldqwn16 = fldqwn.FLDQWN(num_classes=10, \n",
    "                            first_in_channel=3,\n",
    "                            first_out_channel=16,\n",
    "                            num_level=5,\n",
    "                            kernel_size=8,\n",
    "                            regu_details=0.1,\n",
    "                            regu_approx=0.1,\n",
    "                            bottleneck=True,\n",
    "                            moreconv=True,\n",
    "                            wavelet='db4',\n",
    "                            mode='Free')\n",
    "print(\"Number of model parameters            : {:,}\".format(\n",
    "    sum([p.data.nelement() for p in fldqwn16.parameters()])))\n",
    "print(\"Number of *trainable* model parameters: {:,}\".format(\n",
    "    sum(p.numel() for p in fldqwn16.parameters() if p.requires_grad)))"
   ]
  },
  {
   "cell_type": "code",
   "execution_count": null,
   "metadata": {},
   "outputs": [],
   "source": [
    "fldqwn32 = fldqwn.FLDQWN(num_classes=10, \n",
    "                            first_in_channel=3,\n",
    "                            first_out_channel=32,\n",
    "                            num_level=5,\n",
    "                            kernel_size=8,\n",
    "                            regu_details=0.1,\n",
    "                            regu_approx=0.1,\n",
    "                            bottleneck=True,\n",
    "                            moreconv=True,\n",
    "                            wavelet='db4',\n",
    "                            mode='Free')\n",
    "print(\"Number of model parameters            : {:,}\".format(\n",
    "    sum([p.data.nelement() for p in fldqwn32.parameters()])))\n",
    "print(\"Number of *trainable* model parameters: {:,}\".format(\n",
    "    sum(p.numel() for p in fldqwn32.parameters() if p.requires_grad)))"
   ]
  },
  {
   "cell_type": "code",
   "execution_count": null,
   "metadata": {},
   "outputs": [],
   "source": [
    "fldqwn128 = fldqwn.FLDQWN(num_classes=10, \n",
    "                            first_in_channel=3,\n",
    "                            first_out_channel=128,\n",
    "                            num_level=5,\n",
    "                            kernel_size=8,\n",
    "                            regu_details=0.1,\n",
    "                            regu_approx=0.1,\n",
    "                            bottleneck=True,\n",
    "                            moreconv=True,\n",
    "                            wavelet='db4',\n",
    "                            mode='Free')\n",
    "print(\"Number of model parameters            : {:,}\".format(\n",
    "    sum([p.data.nelement() for p in fldqwn128.parameters()])))\n",
    "print(\"Number of *trainable* model parameters: {:,}\".format(\n",
    "    sum(p.numel() for p in fldqwn128.parameters() if p.requires_grad)))"
   ]
  },
  {
   "cell_type": "code",
   "execution_count": null,
   "metadata": {},
   "outputs": [],
   "source": [
    "fldqwnk2l1 = fldqwn.FLDQWN(num_classes=10, \n",
    "                            first_in_channel=3,\n",
    "                            first_out_channel=64,\n",
    "                            num_level=1,\n",
    "                            kernel_size=2,\n",
    "                            regu_details=0.1,\n",
    "                            regu_approx=0.1,\n",
    "                            bottleneck=True,\n",
    "                            moreconv=True,\n",
    "                            wavelet='haar',\n",
    "                            mode='Free')\n",
    "print(\"Number of model parameters            : {:,}\".format(\n",
    "    sum([p.data.nelement() for p in fldqwnk2l1.parameters()])))\n",
    "print(\"Number of *trainable* model parameters: {:,}\".format(\n",
    "    sum(p.numel() for p in fldqwnk2l1.parameters() if p.requires_grad)))"
   ]
  },
  {
   "cell_type": "code",
   "execution_count": null,
   "metadata": {},
   "outputs": [],
   "source": [
    "fldqwnk2l3 = fldqwn.FLDQWN(num_classes=10, \n",
    "                            first_in_channel=3,\n",
    "                            first_out_channel=64,\n",
    "                            num_level=3,\n",
    "                            kernel_size=2,\n",
    "                            regu_details=0.1,\n",
    "                            regu_approx=0.1,\n",
    "                            bottleneck=True,\n",
    "                            moreconv=True,\n",
    "                            wavelet='haar',\n",
    "                            mode='Free')\n",
    "print(\"Number of model parameters            : {:,}\".format(\n",
    "    sum([p.data.nelement() for p in fldqwnk2l3.parameters()])))\n",
    "print(\"Number of *trainable* model parameters: {:,}\".format(\n",
    "    sum(p.numel() for p in fldqwnk2l3.parameters() if p.requires_grad)))"
   ]
  },
  {
   "cell_type": "code",
   "execution_count": null,
   "metadata": {},
   "outputs": [],
   "source": [
    "fldqwnk2l5 = fldqwn.FLDQWN(num_classes=10, \n",
    "                            first_in_channel=3,\n",
    "                            first_out_channel=64,\n",
    "                            num_level=5,\n",
    "                            kernel_size=2,\n",
    "                            regu_details=0.1,\n",
    "                            regu_approx=0.1,\n",
    "                            bottleneck=True,\n",
    "                            moreconv=True,\n",
    "                            wavelet='haar',\n",
    "                            mode='Free')\n",
    "print(\"Number of model parameters            : {:,}\".format(\n",
    "    sum([p.data.nelement() for p in fldqwnk2l5.parameters()])))\n",
    "print(\"Number of *trainable* model parameters: {:,}\".format(\n",
    "    sum(p.numel() for p in fldqwnk2l5.parameters() if p.requires_grad)))"
   ]
  },
  {
   "cell_type": "code",
   "execution_count": null,
   "metadata": {},
   "outputs": [],
   "source": [
    "fldqwnk4l1 = fldqwn.FLDQWN(num_classes=10, \n",
    "                            first_in_channel=3,\n",
    "                            first_out_channel=64,\n",
    "                            num_level=1,\n",
    "                            kernel_size=4,\n",
    "                            regu_details=0.1,\n",
    "                            regu_approx=0.1,\n",
    "                            bottleneck=True,\n",
    "                            moreconv=True,\n",
    "                            wavelet='db2',\n",
    "                            mode='Free')\n",
    "print(\"Number of model parameters            : {:,}\".format(\n",
    "    sum([p.data.nelement() for p in fldqwnk4l1.parameters()])))\n",
    "print(\"Number of *trainable* model parameters: {:,}\".format(\n",
    "    sum(p.numel() for p in fldqwnk4l1.parameters() if p.requires_grad)))"
   ]
  },
  {
   "cell_type": "code",
   "execution_count": null,
   "metadata": {},
   "outputs": [],
   "source": [
    "fldqwnk4l3 = fldqwn.FLDQWN(num_classes=10, \n",
    "                            first_in_channel=3,\n",
    "                            first_out_channel=64,\n",
    "                            num_level=3,\n",
    "                            kernel_size=4,\n",
    "                            regu_details=0.1,\n",
    "                            regu_approx=0.1,\n",
    "                            bottleneck=True,\n",
    "                            moreconv=True,\n",
    "                            wavelet='db2',\n",
    "                            mode='Free')\n",
    "print(\"Number of model parameters            : {:,}\".format(\n",
    "    sum([p.data.nelement() for p in fldqwnk4l3.parameters()])))\n",
    "print(\"Number of *trainable* model parameters: {:,}\".format(\n",
    "    sum(p.numel() for p in fldqwnk4l3.parameters() if p.requires_grad)))"
   ]
  },
  {
   "cell_type": "code",
   "execution_count": null,
   "metadata": {},
   "outputs": [],
   "source": [
    "fldqwnk4l5 = fldqwn.FLDQWN(num_classes=10, \n",
    "                            first_in_channel=3,\n",
    "                            first_out_channel=64,\n",
    "                            num_level=5,\n",
    "                            kernel_size=4,\n",
    "                            regu_details=0.1,\n",
    "                            regu_approx=0.1,\n",
    "                            bottleneck=True,\n",
    "                            moreconv=True,\n",
    "                            wavelet='db2',\n",
    "                            mode='Free')\n",
    "print(\"Number of model parameters            : {:,}\".format(\n",
    "    sum([p.data.nelement() for p in fldqwnk4l5.parameters()])))\n",
    "print(\"Number of *trainable* model parameters: {:,}\".format(\n",
    "    sum(p.numel() for p in fldqwnk4l5.parameters() if p.requires_grad)))"
   ]
  },
  {
   "cell_type": "code",
   "execution_count": null,
   "metadata": {},
   "outputs": [],
   "source": [
    "fldqwnk6l1 = fldqwn.FLDQWN(num_classes=10, \n",
    "                            first_in_channel=3,\n",
    "                            first_out_channel=64,\n",
    "                            num_level=1,\n",
    "                            kernel_size=6,\n",
    "                            regu_details=0.1,\n",
    "                            regu_approx=0.1,\n",
    "                            bottleneck=True,\n",
    "                            moreconv=True,\n",
    "                            wavelet='db3',\n",
    "                            mode='Free')\n",
    "print(\"Number of model parameters            : {:,}\".format(\n",
    "    sum([p.data.nelement() for p in fldqwnk6l1.parameters()])))\n",
    "print(\"Number of *trainable* model parameters: {:,}\".format(\n",
    "    sum(p.numel() for p in fldqwnk6l1.parameters() if p.requires_grad)))"
   ]
  },
  {
   "cell_type": "code",
   "execution_count": null,
   "metadata": {},
   "outputs": [],
   "source": [
    "fldqwnk6l3 = fldqwn.FLDQWN(num_classes=10, \n",
    "                            first_in_channel=3,\n",
    "                            first_out_channel=64,\n",
    "                            num_level=3,\n",
    "                            kernel_size=6,\n",
    "                            regu_details=0.1,\n",
    "                            regu_approx=0.1,\n",
    "                            bottleneck=True,\n",
    "                            moreconv=True,\n",
    "                            wavelet='db3',\n",
    "                            mode='Free')\n",
    "print(\"Number of model parameters            : {:,}\".format(\n",
    "    sum([p.data.nelement() for p in fldqwnk6l3.parameters()])))\n",
    "print(\"Number of *trainable* model parameters: {:,}\".format(\n",
    "    sum(p.numel() for p in fldqwnk6l3.parameters() if p.requires_grad)))"
   ]
  },
  {
   "cell_type": "code",
   "execution_count": null,
   "metadata": {},
   "outputs": [],
   "source": [
    "fldqwnk6l5 = fldqwn.FLDQWN(num_classes=10, \n",
    "                            first_in_channel=3,\n",
    "                            first_out_channel=64,\n",
    "                            num_level=5,\n",
    "                            kernel_size=6,\n",
    "                            regu_details=0.1,\n",
    "                            regu_approx=0.1,\n",
    "                            bottleneck=True,\n",
    "                            moreconv=True,\n",
    "                            wavelet='db3',\n",
    "                            mode='Free')\n",
    "print(\"Number of model parameters            : {:,}\".format(\n",
    "    sum([p.data.nelement() for p in fldqwnk6l5.parameters()])))\n",
    "print(\"Number of *trainable* model parameters: {:,}\".format(\n",
    "    sum(p.numel() for p in fldqwnk6l5.parameters() if p.requires_grad)))"
   ]
  },
  {
   "cell_type": "code",
   "execution_count": null,
   "metadata": {},
   "outputs": [],
   "source": [
    "fldqwnk8l1 = fldqwn.FLDQWN(num_classes=10, \n",
    "                            first_in_channel=3,\n",
    "                            first_out_channel=64,\n",
    "                            num_level=1,\n",
    "                            kernel_size=8,\n",
    "                            regu_details=0.1,\n",
    "                            regu_approx=0.1,\n",
    "                            bottleneck=True,\n",
    "                            moreconv=True,\n",
    "                            wavelet='db4',\n",
    "                            mode='Free')\n",
    "print(\"Number of model parameters            : {:,}\".format(\n",
    "    sum([p.data.nelement() for p in fldqwnk8l1.parameters()])))\n",
    "print(\"Number of *trainable* model parameters: {:,}\".format(\n",
    "    sum(p.numel() for p in fldqwnk8l1.parameters() if p.requires_grad)))"
   ]
  },
  {
   "cell_type": "code",
   "execution_count": null,
   "metadata": {},
   "outputs": [],
   "source": [
    "fldqwnk8l3 = fldqwn.FLDQWN(num_classes=10, \n",
    "                            first_in_channel=3,\n",
    "                            first_out_channel=64,\n",
    "                            num_level=3,\n",
    "                            kernel_size=8,\n",
    "                            regu_details=0.1,\n",
    "                            regu_approx=0.1,\n",
    "                            bottleneck=True,\n",
    "                            moreconv=True,\n",
    "                            wavelet='db4',\n",
    "                            mode='Free')\n",
    "print(\"Number of model parameters            : {:,}\".format(\n",
    "    sum([p.data.nelement() for p in fldqwnk8l3.parameters()])))\n",
    "print(\"Number of *trainable* model parameters: {:,}\".format(\n",
    "    sum(p.numel() for p in fldqwnk8l3.parameters() if p.requires_grad)))"
   ]
  }
 ],
 "metadata": {
  "kernelspec": {
   "display_name": "base",
   "language": "python",
   "name": "python3"
  },
  "language_info": {
   "codemirror_mode": {
    "name": "ipython",
    "version": 3
   },
   "file_extension": ".py",
   "mimetype": "text/x-python",
   "name": "python",
   "nbconvert_exporter": "python",
   "pygments_lexer": "ipython3",
   "version": "3.11.4"
  }
 },
 "nbformat": 4,
 "nbformat_minor": 2
}
