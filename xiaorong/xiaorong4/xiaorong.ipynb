{
 "cells": [
  {
   "cell_type": "code",
   "execution_count": null,
   "metadata": {},
   "outputs": [],
   "source": [
    "!python main.py --data_name bark-39 --name fldqwnnoconv  --epochs 300 fldqwn --moreconv False"
   ]
  },
  {
   "cell_type": "code",
   "execution_count": null,
   "metadata": {},
   "outputs": [],
   "source": [
    "!python main.py --data_name trunk12 --name fldqwnnoconv  --epochs 150 fldqwn --moreconv False"
   ]
  },
  {
   "cell_type": "code",
   "execution_count": null,
   "metadata": {},
   "outputs": [],
   "source": [
    "!python main.py --data_name dtd --name fldqwnnoconv  --epochs 200 fldqwn --moreconv False"
   ]
  },
  {
   "cell_type": "code",
   "execution_count": null,
   "metadata": {},
   "outputs": [],
   "source": [
    "!python main.py --data_name barkvn-50 --name fldqwnnoconv  --epochs 140 fldqwn --moreconv False"
   ]
  },
  {
   "cell_type": "code",
   "execution_count": null,
   "metadata": {},
   "outputs": [],
   "source": [
    "!python main.py --data_name bark-39 --name fldqwnstable  --epochs 300 fldqwn --mode Stable"
   ]
  },
  {
   "cell_type": "code",
   "execution_count": null,
   "metadata": {},
   "outputs": [],
   "source": [
    "!python main.py --data_name trunk12 --name fldqwnstable  --epochs 150 fldqwn --mode Stable"
   ]
  },
  {
   "cell_type": "code",
   "execution_count": null,
   "metadata": {},
   "outputs": [],
   "source": [
    "!python main.py --data_name bark-39 --name fldqwnr0  --epochs 300 fldqwn --regu_details 0.0 --regu_approx 0.0"
   ]
  },
  {
   "cell_type": "code",
   "execution_count": null,
   "metadata": {},
   "outputs": [],
   "source": [
    "!python main.py --data_name trunk12 --name fldqwnr0  --epochs 150 fldqwn --regu_details 0.0 --regu_approx 0.0"
   ]
  },
  {
   "cell_type": "code",
   "execution_count": null,
   "metadata": {},
   "outputs": [],
   "source": [
    "!python main.py --data_name barkvn-50 --name fldqwnr0  --epochs 140 fldqwn --regu_details 0.0 --regu_approx 0.0"
   ]
  },
  {
   "cell_type": "code",
   "execution_count": null,
   "metadata": {},
   "outputs": [],
   "source": [
    "# !python main.py --data_name bark-20 --name fldqwnr0  --epochs 130 fldqwn --regu_details 0.0 --regu_approx 0.0"
   ]
  },
  {
   "cell_type": "code",
   "execution_count": null,
   "metadata": {},
   "outputs": [],
   "source": [
    "# !python main.py --data_name bark-20 --name fldqwnstable  --epochs 130 fldqwn --mode Stable"
   ]
  },
  {
   "cell_type": "code",
   "execution_count": null,
   "metadata": {},
   "outputs": [],
   "source": [
    "# !python main.py --data_name bark-20 --name fldqwnnoconv  --epochs 130 fldqwn --moreconv False"
   ]
  }
 ],
 "metadata": {
  "kernelspec": {
   "display_name": "base",
   "language": "python",
   "name": "python3"
  },
  "language_info": {
   "codemirror_mode": {
    "name": "ipython",
    "version": 3
   },
   "file_extension": ".py",
   "mimetype": "text/x-python",
   "name": "python",
   "nbconvert_exporter": "python",
   "pygments_lexer": "ipython3",
   "version": "3.11.4"
  }
 },
 "nbformat": 4,
 "nbformat_minor": 2
}
