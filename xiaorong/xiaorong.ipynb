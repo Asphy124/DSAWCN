{
 "cells": [
  {
   "cell_type": "code",
   "execution_count": 1,
   "metadata": {},
   "outputs": [
    {
     "name": "stdout",
     "output_type": "stream",
     "text": [
      "^C\n"
     ]
    }
   ],
   "source": [
    "# !python ./xiaorong1/main.py --data_name bark-20 --name fldqwn3  --epochs 130 fldqwn --first_out_channel 3"
   ]
  },
  {
   "cell_type": "code",
   "execution_count": null,
   "metadata": {},
   "outputs": [],
   "source": [
    "# !python ./xiaorong1/main.py --data_name kth-a --name fldqwn3  --epochs 90 fldqwn --first_out_channel 3"
   ]
  },
  {
   "cell_type": "code",
   "execution_count": null,
   "metadata": {},
   "outputs": [],
   "source": [
    "# !python ./xiaorong1/main.py --data_name kth-b --name fldqwn3  --epochs 90 fldqwn --first_out_channel 3"
   ]
  },
  {
   "cell_type": "code",
   "execution_count": null,
   "metadata": {},
   "outputs": [],
   "source": [
    "# !python ./xiaorong1/main.py --data_name kth-c --name fldqwn3  --epochs 90 fldqwn --first_out_channel 3"
   ]
  },
  {
   "cell_type": "code",
   "execution_count": null,
   "metadata": {},
   "outputs": [],
   "source": [
    "# !python ./xiaorong1/main.py --data_name kth-d --name fldqwn3  --epochs 90 fldqwn --first_out_channel 3"
   ]
  },
  {
   "cell_type": "code",
   "execution_count": null,
   "metadata": {},
   "outputs": [],
   "source": [
    "!python ./xiaorong2/main.py --data_name bark-20 --name fldqwnfullconv  --epochs 130 fldqwn"
   ]
  },
  {
   "cell_type": "code",
   "execution_count": null,
   "metadata": {},
   "outputs": [],
   "source": [
    "!python ./xiaorong2/main.py --data_name kth-a --name fldqwnfullconv  --epochs 90 fldqwn"
   ]
  },
  {
   "cell_type": "code",
   "execution_count": null,
   "metadata": {},
   "outputs": [],
   "source": [
    "!python ./xiaorong2/main.py --data_name kth-b --name fldqwnfullconv  --epochs 90 fldqwn"
   ]
  },
  {
   "cell_type": "code",
   "execution_count": null,
   "metadata": {},
   "outputs": [],
   "source": [
    "!python ./xiaorong2/main.py --data_name kth-c --name fldqwnfullconv  --epochs 90 fldqwn"
   ]
  },
  {
   "cell_type": "code",
   "execution_count": null,
   "metadata": {},
   "outputs": [],
   "source": [
    "!python ./xiaorong2/main.py --data_name kth-d --name fldqwnfullconv  --epochs 90 fldqwn"
   ]
  },
  {
   "cell_type": "code",
   "execution_count": null,
   "metadata": {},
   "outputs": [],
   "source": [
    "!python ./xiaorong3/main.py --data_name bark-20 --name fldqwnnormpad  --epochs 130 fldqwn"
   ]
  },
  {
   "cell_type": "code",
   "execution_count": null,
   "metadata": {},
   "outputs": [],
   "source": [
    "!python ./xiaorong3/main.py --data_name kth-a --name fldqwnnormpad  --epochs 90 fldqwn"
   ]
  },
  {
   "cell_type": "code",
   "execution_count": null,
   "metadata": {},
   "outputs": [],
   "source": [
    "!python ./xiaorong3/main.py --data_name kth-b --name fldqwnnormpad  --epochs 90 fldqwn"
   ]
  },
  {
   "cell_type": "code",
   "execution_count": null,
   "metadata": {},
   "outputs": [],
   "source": [
    "!python ./xiaorong3/main.py --data_name kth-c --name fldqwnnormpad  --epochs 90 fldqwn"
   ]
  },
  {
   "cell_type": "code",
   "execution_count": null,
   "metadata": {},
   "outputs": [],
   "source": [
    "!python ./xiaorong3/main.py --data_name kth-d --name fldqwnnormpad  --epochs 90 fldqwn"
   ]
  },
  {
   "cell_type": "code",
   "execution_count": null,
   "metadata": {},
   "outputs": [],
   "source": [
    "!python ./xiaorong4/main.py --data_name bark-20 --name fldqwnr0  --epochs 130 fldqwn --regu_details 0.0 --regu_approx 0.0"
   ]
  },
  {
   "cell_type": "code",
   "execution_count": null,
   "metadata": {},
   "outputs": [],
   "source": [
    "!python ./xiaorong4/main.py --data_name bark-20 --name fldqwnstable  --epochs 130 fldqwn --mode Stable"
   ]
  },
  {
   "cell_type": "code",
   "execution_count": null,
   "metadata": {},
   "outputs": [],
   "source": [
    "!python ./xiaorong4/main.py --data_name bark-20 --name fldqwnnoconv  --epochs 130 fldqwn --moreconv False"
   ]
  },
  {
   "cell_type": "code",
   "execution_count": null,
   "metadata": {},
   "outputs": [],
   "source": [
    "!python ./xiaorong4/main.py --data_name kth-a --name fldqwnr0  --epochs 90 fldqwn --regu_details 0.0 --regu_approx 0.0"
   ]
  },
  {
   "cell_type": "code",
   "execution_count": null,
   "metadata": {},
   "outputs": [],
   "source": [
    "!python ./xiaorong4/main.py --data_name kth-b --name fldqwnr0  --epochs 90 fldqwn --regu_details 0.0 --regu_approx 0.0"
   ]
  },
  {
   "cell_type": "code",
   "execution_count": null,
   "metadata": {},
   "outputs": [],
   "source": [
    "!python ./xiaorong4/main.py --data_name kth-c --name fldqwnr0  --epochs 90 fldqwn --regu_details 0.0 --regu_approx 0.0"
   ]
  },
  {
   "cell_type": "code",
   "execution_count": null,
   "metadata": {},
   "outputs": [],
   "source": [
    "!python ./xiaorong4/main.py --data_name kth-d --name fldqwnr0  --epochs 90 fldqwn --regu_details 0.0 --regu_approx 0.0"
   ]
  },
  {
   "cell_type": "code",
   "execution_count": null,
   "metadata": {},
   "outputs": [],
   "source": [
    "!python ./xiaorong4/main.py --data_name kth-a --name fldqwnstable  --epochs 90 fldqwn --mode Stable"
   ]
  },
  {
   "cell_type": "code",
   "execution_count": null,
   "metadata": {},
   "outputs": [],
   "source": [
    "!python ./xiaorong4/main.py --data_name kth-b --name fldqwnstable  --epochs 90 fldqwn --mode Stable"
   ]
  },
  {
   "cell_type": "code",
   "execution_count": null,
   "metadata": {},
   "outputs": [],
   "source": [
    "!python ./xiaorong4/main.py --data_name kth-c --name fldqwnstable  --epochs 90 fldqwn --mode Stable"
   ]
  },
  {
   "cell_type": "code",
   "execution_count": null,
   "metadata": {},
   "outputs": [],
   "source": [
    "!python ./xiaorong4/main.py --data_name kth-d --name fldqwnstable  --epochs 90 fldqwn --mode Stable"
   ]
  },
  {
   "cell_type": "code",
   "execution_count": null,
   "metadata": {},
   "outputs": [],
   "source": [
    "!python ./xiaorong4/main.py --data_name kth-a --name fldqwnnoconv  --epochs 90 fldqwn --moreconv False"
   ]
  },
  {
   "cell_type": "code",
   "execution_count": null,
   "metadata": {},
   "outputs": [],
   "source": [
    "!python ./xiaorong4/main.py --data_name kth-b --name fldqwnnoconv  --epochs 90 fldqwn --moreconv False"
   ]
  },
  {
   "cell_type": "code",
   "execution_count": null,
   "metadata": {},
   "outputs": [],
   "source": [
    "!python ./xiaorong4/main.py --data_name kth-c --name fldqwnnoconv  --epochs 90 fldqwn --moreconv False"
   ]
  },
  {
   "cell_type": "code",
   "execution_count": null,
   "metadata": {},
   "outputs": [],
   "source": [
    "!python ./xiaorong4/main.py --data_name kth-d --name fldqwnnoconv  --epochs 90 fldqwn --moreconv False"
   ]
  }
 ],
 "metadata": {
  "kernelspec": {
   "display_name": "Python 3 (ipykernel)",
   "language": "python",
   "name": "python3"
  },
  "language_info": {
   "codemirror_mode": {
    "name": "ipython",
    "version": 3
   },
   "file_extension": ".py",
   "mimetype": "text/x-python",
   "name": "python",
   "nbconvert_exporter": "python",
   "pygments_lexer": "ipython3",
   "version": "3.11.4"
  }
 },
 "nbformat": 4,
 "nbformat_minor": 4
}
